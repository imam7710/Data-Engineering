{
  "nbformat": 4,
  "nbformat_minor": 0,
  "metadata": {
    "colab": {
      "name": "Data Profiling.ipynb",
      "provenance": [],
      "collapsed_sections": [],
      "authorship_tag": "ABX9TyNAnCZ1+ivTfB0ceC7bv+Kw"
    },
    "kernelspec": {
      "name": "python3",
      "display_name": "Python 3"
    },
    "language_info": {
      "name": "python"
    }
  },
  "cells": [
    {
      "cell_type": "markdown",
      "source": [
        "**DATA PROFILING**\n",
        "\n",
        "Data profiling adalah kegiatan merangkum dataset menggunakan statistik deskriptif.\n",
        "Tujuan dari pembuatan data profiling adalah untuk memiliki pemahaman yang kuat\n",
        "tentang data sehingga dapat mulai menyusun framework analisis dan\n",
        "memvisualisasikan data."
      ],
      "metadata": {
        "id": "FahqLw_nLB59"
      }
    },
    {
      "cell_type": "code",
      "execution_count": 69,
      "metadata": {
        "colab": {
          "base_uri": "https://localhost:8080/",
          "height": 423
        },
        "id": "J2fvY-bwkA8Y",
        "outputId": "3cdd8a53-c921-4c20-fef7-cf5cab639ca6"
      },
      "outputs": [
        {
          "output_type": "execute_result",
          "data": {
            "text/plain": [
              "      order_id  order_date  customer_id             city     province  \\\n",
              "0      1703458  17/10/2019        14004  Jakarta Selatan  DKI Jakarta   \n",
              "1      1706815  24/10/2019        17220  Jakarta Selatan  DKI Jakarta   \n",
              "2      1710718  03/11/2019        16518    Jakarta Utara  DKI Jakarta   \n",
              "3      1683592  19/08/2019        16364    Jakarta Barat  DKI Jakarta   \n",
              "4      1702573  16/10/2019        15696    Jakarta Timur  DKI Jakarta   \n",
              "...        ...         ...          ...              ...          ...   \n",
              "4995   1724011  01/12/2019        12838        Tangerang       Banten   \n",
              "4996   1676302  28/07/2019        13833            Bogor   Jawa Barat   \n",
              "4997   1706071  23/10/2019        16332    Jakarta Timur  DKI Jakarta   \n",
              "4998   1703620  17/10/2019        13055    Jakarta Barat  DKI Jakarta   \n",
              "4999   1720036  24/11/2019        17609    Jakarta Pusat  DKI Jakarta   \n",
              "\n",
              "     product_id    brand  quantity  item_price  \n",
              "0         P1910  BRAND_J      10.0    740000.0  \n",
              "1         P2934  BRAND_R       2.0    604000.0  \n",
              "2         P0908  BRAND_C       8.0   1045000.0  \n",
              "3         P0128  BRAND_A       4.0    205000.0  \n",
              "4         P2968  BRAND_R       2.0         NaN  \n",
              "...         ...      ...       ...         ...  \n",
              "4995      P3047  BRAND_R       2.0    450000.0  \n",
              "4996      P0760  BRAND_C       3.0   1465000.0  \n",
              "4997      P1681  BRAND_H       4.0    747000.0  \n",
              "4998      P0757  BRAND_C       8.0    695000.0  \n",
              "4999      P3334  BRAND_S       1.0   1045000.0  \n",
              "\n",
              "[5000 rows x 9 columns]"
            ],
            "text/html": [
              "\n",
              "  <div id=\"df-bf499468-e6c6-4253-8705-d95e60387816\">\n",
              "    <div class=\"colab-df-container\">\n",
              "      <div>\n",
              "<style scoped>\n",
              "    .dataframe tbody tr th:only-of-type {\n",
              "        vertical-align: middle;\n",
              "    }\n",
              "\n",
              "    .dataframe tbody tr th {\n",
              "        vertical-align: top;\n",
              "    }\n",
              "\n",
              "    .dataframe thead th {\n",
              "        text-align: right;\n",
              "    }\n",
              "</style>\n",
              "<table border=\"1\" class=\"dataframe\">\n",
              "  <thead>\n",
              "    <tr style=\"text-align: right;\">\n",
              "      <th></th>\n",
              "      <th>order_id</th>\n",
              "      <th>order_date</th>\n",
              "      <th>customer_id</th>\n",
              "      <th>city</th>\n",
              "      <th>province</th>\n",
              "      <th>product_id</th>\n",
              "      <th>brand</th>\n",
              "      <th>quantity</th>\n",
              "      <th>item_price</th>\n",
              "    </tr>\n",
              "  </thead>\n",
              "  <tbody>\n",
              "    <tr>\n",
              "      <th>0</th>\n",
              "      <td>1703458</td>\n",
              "      <td>17/10/2019</td>\n",
              "      <td>14004</td>\n",
              "      <td>Jakarta Selatan</td>\n",
              "      <td>DKI Jakarta</td>\n",
              "      <td>P1910</td>\n",
              "      <td>BRAND_J</td>\n",
              "      <td>10.0</td>\n",
              "      <td>740000.0</td>\n",
              "    </tr>\n",
              "    <tr>\n",
              "      <th>1</th>\n",
              "      <td>1706815</td>\n",
              "      <td>24/10/2019</td>\n",
              "      <td>17220</td>\n",
              "      <td>Jakarta Selatan</td>\n",
              "      <td>DKI Jakarta</td>\n",
              "      <td>P2934</td>\n",
              "      <td>BRAND_R</td>\n",
              "      <td>2.0</td>\n",
              "      <td>604000.0</td>\n",
              "    </tr>\n",
              "    <tr>\n",
              "      <th>2</th>\n",
              "      <td>1710718</td>\n",
              "      <td>03/11/2019</td>\n",
              "      <td>16518</td>\n",
              "      <td>Jakarta Utara</td>\n",
              "      <td>DKI Jakarta</td>\n",
              "      <td>P0908</td>\n",
              "      <td>BRAND_C</td>\n",
              "      <td>8.0</td>\n",
              "      <td>1045000.0</td>\n",
              "    </tr>\n",
              "    <tr>\n",
              "      <th>3</th>\n",
              "      <td>1683592</td>\n",
              "      <td>19/08/2019</td>\n",
              "      <td>16364</td>\n",
              "      <td>Jakarta Barat</td>\n",
              "      <td>DKI Jakarta</td>\n",
              "      <td>P0128</td>\n",
              "      <td>BRAND_A</td>\n",
              "      <td>4.0</td>\n",
              "      <td>205000.0</td>\n",
              "    </tr>\n",
              "    <tr>\n",
              "      <th>4</th>\n",
              "      <td>1702573</td>\n",
              "      <td>16/10/2019</td>\n",
              "      <td>15696</td>\n",
              "      <td>Jakarta Timur</td>\n",
              "      <td>DKI Jakarta</td>\n",
              "      <td>P2968</td>\n",
              "      <td>BRAND_R</td>\n",
              "      <td>2.0</td>\n",
              "      <td>NaN</td>\n",
              "    </tr>\n",
              "    <tr>\n",
              "      <th>...</th>\n",
              "      <td>...</td>\n",
              "      <td>...</td>\n",
              "      <td>...</td>\n",
              "      <td>...</td>\n",
              "      <td>...</td>\n",
              "      <td>...</td>\n",
              "      <td>...</td>\n",
              "      <td>...</td>\n",
              "      <td>...</td>\n",
              "    </tr>\n",
              "    <tr>\n",
              "      <th>4995</th>\n",
              "      <td>1724011</td>\n",
              "      <td>01/12/2019</td>\n",
              "      <td>12838</td>\n",
              "      <td>Tangerang</td>\n",
              "      <td>Banten</td>\n",
              "      <td>P3047</td>\n",
              "      <td>BRAND_R</td>\n",
              "      <td>2.0</td>\n",
              "      <td>450000.0</td>\n",
              "    </tr>\n",
              "    <tr>\n",
              "      <th>4996</th>\n",
              "      <td>1676302</td>\n",
              "      <td>28/07/2019</td>\n",
              "      <td>13833</td>\n",
              "      <td>Bogor</td>\n",
              "      <td>Jawa Barat</td>\n",
              "      <td>P0760</td>\n",
              "      <td>BRAND_C</td>\n",
              "      <td>3.0</td>\n",
              "      <td>1465000.0</td>\n",
              "    </tr>\n",
              "    <tr>\n",
              "      <th>4997</th>\n",
              "      <td>1706071</td>\n",
              "      <td>23/10/2019</td>\n",
              "      <td>16332</td>\n",
              "      <td>Jakarta Timur</td>\n",
              "      <td>DKI Jakarta</td>\n",
              "      <td>P1681</td>\n",
              "      <td>BRAND_H</td>\n",
              "      <td>4.0</td>\n",
              "      <td>747000.0</td>\n",
              "    </tr>\n",
              "    <tr>\n",
              "      <th>4998</th>\n",
              "      <td>1703620</td>\n",
              "      <td>17/10/2019</td>\n",
              "      <td>13055</td>\n",
              "      <td>Jakarta Barat</td>\n",
              "      <td>DKI Jakarta</td>\n",
              "      <td>P0757</td>\n",
              "      <td>BRAND_C</td>\n",
              "      <td>8.0</td>\n",
              "      <td>695000.0</td>\n",
              "    </tr>\n",
              "    <tr>\n",
              "      <th>4999</th>\n",
              "      <td>1720036</td>\n",
              "      <td>24/11/2019</td>\n",
              "      <td>17609</td>\n",
              "      <td>Jakarta Pusat</td>\n",
              "      <td>DKI Jakarta</td>\n",
              "      <td>P3334</td>\n",
              "      <td>BRAND_S</td>\n",
              "      <td>1.0</td>\n",
              "      <td>1045000.0</td>\n",
              "    </tr>\n",
              "  </tbody>\n",
              "</table>\n",
              "<p>5000 rows × 9 columns</p>\n",
              "</div>\n",
              "      <button class=\"colab-df-convert\" onclick=\"convertToInteractive('df-bf499468-e6c6-4253-8705-d95e60387816')\"\n",
              "              title=\"Convert this dataframe to an interactive table.\"\n",
              "              style=\"display:none;\">\n",
              "        \n",
              "  <svg xmlns=\"http://www.w3.org/2000/svg\" height=\"24px\"viewBox=\"0 0 24 24\"\n",
              "       width=\"24px\">\n",
              "    <path d=\"M0 0h24v24H0V0z\" fill=\"none\"/>\n",
              "    <path d=\"M18.56 5.44l.94 2.06.94-2.06 2.06-.94-2.06-.94-.94-2.06-.94 2.06-2.06.94zm-11 1L8.5 8.5l.94-2.06 2.06-.94-2.06-.94L8.5 2.5l-.94 2.06-2.06.94zm10 10l.94 2.06.94-2.06 2.06-.94-2.06-.94-.94-2.06-.94 2.06-2.06.94z\"/><path d=\"M17.41 7.96l-1.37-1.37c-.4-.4-.92-.59-1.43-.59-.52 0-1.04.2-1.43.59L10.3 9.45l-7.72 7.72c-.78.78-.78 2.05 0 2.83L4 21.41c.39.39.9.59 1.41.59.51 0 1.02-.2 1.41-.59l7.78-7.78 2.81-2.81c.8-.78.8-2.07 0-2.86zM5.41 20L4 18.59l7.72-7.72 1.47 1.35L5.41 20z\"/>\n",
              "  </svg>\n",
              "      </button>\n",
              "      \n",
              "  <style>\n",
              "    .colab-df-container {\n",
              "      display:flex;\n",
              "      flex-wrap:wrap;\n",
              "      gap: 12px;\n",
              "    }\n",
              "\n",
              "    .colab-df-convert {\n",
              "      background-color: #E8F0FE;\n",
              "      border: none;\n",
              "      border-radius: 50%;\n",
              "      cursor: pointer;\n",
              "      display: none;\n",
              "      fill: #1967D2;\n",
              "      height: 32px;\n",
              "      padding: 0 0 0 0;\n",
              "      width: 32px;\n",
              "    }\n",
              "\n",
              "    .colab-df-convert:hover {\n",
              "      background-color: #E2EBFA;\n",
              "      box-shadow: 0px 1px 2px rgba(60, 64, 67, 0.3), 0px 1px 3px 1px rgba(60, 64, 67, 0.15);\n",
              "      fill: #174EA6;\n",
              "    }\n",
              "\n",
              "    [theme=dark] .colab-df-convert {\n",
              "      background-color: #3B4455;\n",
              "      fill: #D2E3FC;\n",
              "    }\n",
              "\n",
              "    [theme=dark] .colab-df-convert:hover {\n",
              "      background-color: #434B5C;\n",
              "      box-shadow: 0px 1px 3px 1px rgba(0, 0, 0, 0.15);\n",
              "      filter: drop-shadow(0px 1px 2px rgba(0, 0, 0, 0.3));\n",
              "      fill: #FFFFFF;\n",
              "    }\n",
              "  </style>\n",
              "\n",
              "      <script>\n",
              "        const buttonEl =\n",
              "          document.querySelector('#df-bf499468-e6c6-4253-8705-d95e60387816 button.colab-df-convert');\n",
              "        buttonEl.style.display =\n",
              "          google.colab.kernel.accessAllowed ? 'block' : 'none';\n",
              "\n",
              "        async function convertToInteractive(key) {\n",
              "          const element = document.querySelector('#df-bf499468-e6c6-4253-8705-d95e60387816');\n",
              "          const dataTable =\n",
              "            await google.colab.kernel.invokeFunction('convertToInteractive',\n",
              "                                                     [key], {});\n",
              "          if (!dataTable) return;\n",
              "\n",
              "          const docLinkHtml = 'Like what you see? Visit the ' +\n",
              "            '<a target=\"_blank\" href=https://colab.research.google.com/notebooks/data_table.ipynb>data table notebook</a>'\n",
              "            + ' to learn more about interactive tables.';\n",
              "          element.innerHTML = '';\n",
              "          dataTable['output_type'] = 'display_data';\n",
              "          await google.colab.output.renderOutput(dataTable, element);\n",
              "          const docLink = document.createElement('div');\n",
              "          docLink.innerHTML = docLinkHtml;\n",
              "          element.appendChild(docLink);\n",
              "        }\n",
              "      </script>\n",
              "    </div>\n",
              "  </div>\n",
              "  "
            ]
          },
          "metadata": {},
          "execution_count": 69
        }
      ],
      "source": [
        "import numpy as np\n",
        "import matplotlib.pyplot as plt\n",
        "import pandas as pd\n",
        "from pandas_profiling import ProfileReport\n",
        "% matplotlib inline\n",
        "\n",
        "url = 'https://raw.githubusercontent.com/imam7710/Data-Engineering/main/retail_raw_reduced_data_quality.csv'\n",
        "df = pd.read_csv(url)\n",
        "df"
      ]
    },
    {
      "cell_type": "code",
      "source": [
        "df.dtypes"
      ],
      "metadata": {
        "colab": {
          "base_uri": "https://localhost:8080/"
        },
        "id": "cvpD6WSOrd4b",
        "outputId": "e4c10c23-3710-4c11-c173-f3b2709956b6"
      },
      "execution_count": 3,
      "outputs": [
        {
          "output_type": "execute_result",
          "data": {
            "text/plain": [
              "order_id         int64\n",
              "order_date      object\n",
              "customer_id      int64\n",
              "city            object\n",
              "province        object\n",
              "product_id      object\n",
              "brand           object\n",
              "quantity       float64\n",
              "item_price     float64\n",
              "dtype: object"
            ]
          },
          "metadata": {},
          "execution_count": 3
        }
      ]
    },
    {
      "cell_type": "markdown",
      "source": [
        "**melihat semua nama kolum pada dataset**"
      ],
      "metadata": {
        "id": "d_qX5P8CtHsj"
      }
    },
    {
      "cell_type": "code",
      "source": [
        "df.columns.values"
      ],
      "metadata": {
        "colab": {
          "base_uri": "https://localhost:8080/"
        },
        "id": "MR7jtPMjr3cU",
        "outputId": "ab45109f-0a4c-4374-b549-d60e4246bf1e"
      },
      "execution_count": 4,
      "outputs": [
        {
          "output_type": "execute_result",
          "data": {
            "text/plain": [
              "array(['order_id', 'order_date', 'customer_id', 'city', 'province',\n",
              "       'product_id', 'brand', 'quantity', 'item_price'], dtype=object)"
            ]
          },
          "metadata": {},
          "execution_count": 4
        }
      ]
    },
    {
      "cell_type": "markdown",
      "source": [
        "**Length**\n",
        "fungsi len menghitung jumlah pengamatan dalam suatu series/column. Fungsi len akan menghitung semua pengamatan, terlepas dari apakah ada *null-value* atau tidak (include missing value)"
      ],
      "metadata": {
        "id": "VUvS8u-utURi"
      }
    },
    {
      "cell_type": "code",
      "source": [
        "a = len(df[\"order_id\"])\n",
        "print('length kolom order_id adalah ', a)\n",
        "\n",
        "b = len(df[\"product_id\"])\n",
        "print('length kolom product_id adalah ', b)\n",
        "\n",
        "c = len(df[\"city\"])\n",
        "print('length kolom city adalah ', c)"
      ],
      "metadata": {
        "colab": {
          "base_uri": "https://localhost:8080/"
        },
        "id": "gbcykWyito-c",
        "outputId": "96ef7148-91db-47cb-c8bc-626f795d68db"
      },
      "execution_count": 5,
      "outputs": [
        {
          "output_type": "stream",
          "name": "stdout",
          "text": [
            "length kolom order_id adalah  5000\n",
            "length kolom product_id adalah  5000\n",
            "length kolom city adalah  5000\n"
          ]
        }
      ]
    },
    {
      "cell_type": "markdown",
      "source": [
        "**DESCRIPTIVE STATISTICS - PART 2** \n",
        "\n",
        "**Count** fungsi count menghitung jumlah pemgamatan non-NA/non-null dalam suatu series/column. DI lain pihak, fungsi *len* akan hanya menghitung jumlah elemen dari kolom baik kolom bersangkutan memilii atau tidak missing value (include missing value)"
      ],
      "metadata": {
        "id": "6BoCoJ6PuXhL"
      }
    },
    {
      "cell_type": "code",
      "source": [
        "# count kolom city\n",
        "d = df['city'].count()\n",
        "print(d)\n",
        "e = df['product_id'].count()\n",
        "print(e)"
      ],
      "metadata": {
        "colab": {
          "base_uri": "https://localhost:8080/"
        },
        "id": "vUpUKbIUuvW6",
        "outputId": "b3b32ba0-d9b1-49dd-837b-c7368ffbe428"
      },
      "execution_count": 6,
      "outputs": [
        {
          "output_type": "stream",
          "name": "stdout",
          "text": [
            "4984\n",
            "4989\n"
          ]
        }
      ]
    },
    {
      "cell_type": "markdown",
      "source": [
        "**DESCRIPTIVE STATISTICS - PART 3** \n",
        "\n",
        "**Missing Value** dengan length dan count, ekarang dapat menghitung jumlah missing value. Jumlah nilai yang hilang adalah perbedaan antara length dan Count\n",
        "\n",
        "\n"
      ],
      "metadata": {
        "id": "NjJHvop_vQ5M"
      }
    },
    {
      "cell_type": "code",
      "source": [
        "# missing value pada kolom city\n",
        "number_of_missing_values_city = c - d\n",
        "float_of_missing_values_city = float(number_of_missing_values_city/c)\n",
        "pct_of_missing_values_city = '{0:.1f}%'.format(float_of_missing_values_city * 100)\n",
        "print('persentase missing value kolom city: ', pct_of_missing_values_city)"
      ],
      "metadata": {
        "colab": {
          "base_uri": "https://localhost:8080/"
        },
        "id": "dyyB-wNyvixU",
        "outputId": "3832e830-5f62-4b59-db75-db2a1487fddb"
      },
      "execution_count": null,
      "outputs": [
        {
          "output_type": "stream",
          "name": "stdout",
          "text": [
            "persentase missing value kolom city:  0.3%\n"
          ]
        }
      ]
    },
    {
      "cell_type": "markdown",
      "source": [
        "**tugas praktek**\n",
        "\n",
        "jumlah missing value dari kolom product_id, membuat sintaks untuk menghitung presentase missing-value dari product_id"
      ],
      "metadata": {
        "id": "LzzJfPBxz11J"
      }
    },
    {
      "cell_type": "code",
      "source": [
        "# missing value pada kolom product_id\n",
        "number_of_missing_values_productID = b - e # length dikurangi count\n",
        "float_of_missing_values_ProductID = float(number_of_missing_values_productID/b)\n",
        "pct_of_missing_values_productID = '{0:.1f}%'.format(float_of_missing_values_ProductID * 100)\n",
        "print('persentase missing value kolom product_id adalah : ', pct_of_missing_values_productID)"
      ],
      "metadata": {
        "colab": {
          "base_uri": "https://localhost:8080/"
        },
        "id": "zyTLx4_8zo2b",
        "outputId": "2b305071-428a-459f-a2a2-db2f4474260a"
      },
      "execution_count": null,
      "outputs": [
        {
          "output_type": "stream",
          "name": "stdout",
          "text": [
            "persentase missing value kolom product_id adalah :  0.2%\n"
          ]
        }
      ]
    },
    {
      "cell_type": "markdown",
      "source": [
        "**DESCRIPTIVE STATISTICS - PART 4** \n",
        "\n",
        "**Makksimum dan Minimum**\n",
        "Fungsi max dan min digunakan unutk mengetahui elemen terbesar dan terkecil dari suatu kolom di dataframe.\n",
        "\n",
        "\n",
        "\n",
        "*   nama_dataframe[\"nama_kolom\"].max()\n",
        "*   nama_dataframe[\"nama_kolom\"].min()\n",
        "\n",
        "\n",
        "\n",
        "\n",
        "**Makksimum dan Minimum** \n",
        "fungsi mean, median, dan standar deviasi digunakan untuk mengerahui pemusatan data dan persebarannya\n",
        "\n",
        "nama_dataframe[\"nama_kolom\"].mean()\n",
        "\n",
        "nama_dataframe[\"nama_kolom\"].median()\n",
        "\n",
        "nama_dataframe[\"nama_kolom\"].mode()\n",
        "\n",
        "nama_dataframe[\"nama_kolom\"].std()\n"
      ],
      "metadata": {
        "id": "UZfEnYsL05vl"
      }
    },
    {
      "cell_type": "code",
      "source": [
        "# deskriptif statistics kolom quantity\n",
        "print('kolom quantity')\n",
        "print('minimum_value: ', df['quantity'].min())\n",
        "print('maximum value: ', df['quantity'].max())\n",
        "print('mean value: ', df['quantity'].mean())\n",
        "print('mode value: ', df['quantity'].mode())\n",
        "print('standard deviation value: ', df['quantity'].std())"
      ],
      "metadata": {
        "colab": {
          "base_uri": "https://localhost:8080/"
        },
        "id": "p1QoBPF72gHP",
        "outputId": "09012ae4-65f3-4346-cc57-42ba38f0976a"
      },
      "execution_count": null,
      "outputs": [
        {
          "output_type": "stream",
          "name": "stdout",
          "text": [
            "kolom quantity\n",
            "minimum_value:  1.0\n",
            "maximum value:  720.0\n",
            "mean value:  11.423987164059366\n",
            "mode value:  0    1.0\n",
            "dtype: float64\n",
            "standard deviation value:  29.44202501081146\n"
          ]
        }
      ]
    },
    {
      "cell_type": "markdown",
      "source": [
        "**tugas praktek**\n",
        "\n",
        "buatlah statistics deskriptif untuk data item_price dari dataframe retail_raw! berupa max, min, mean, median, dan std"
      ],
      "metadata": {
        "id": "1Qw2hlYn52ev"
      }
    },
    {
      "cell_type": "code",
      "source": [
        "#deskriptif statistics kolom item_price\n",
        "print('minimum value: ', df['item_price'].min())\n",
        "print('maximum value: ', df['item_price'].max())\n",
        "print('mean value: ', df['item_price'].mean())\n",
        "print('mode value: ', df['item_price'].mode())\n",
        "print('standard deviation value: ', df['item_price'].std())"
      ],
      "metadata": {
        "colab": {
          "base_uri": "https://localhost:8080/"
        },
        "id": "KPOiQDQs6CeZ",
        "outputId": "ca8545bc-615c-47dd-ebea-7dd826ca7c93"
      },
      "execution_count": null,
      "outputs": [
        {
          "output_type": "stream",
          "name": "stdout",
          "text": [
            "minimum value:  26000.0\n",
            "maximum value:  29762000.0\n",
            "mean value:  933742.7311008623\n",
            "mode value:  0    590000.0\n",
            "dtype: float64\n",
            "standard deviation value:  1030829.8104242847\n"
          ]
        }
      ]
    },
    {
      "cell_type": "markdown",
      "source": [
        "**DESCRIPTIVE STATISTICS - PART 5**\n",
        "\n",
        "**Quantile Statistics** adalah titik potong yang membagi distribusi dalam ukuran yang sama. Jika akan membagi distribusi menjadi empat grup yang sama, kuantil yang dibuat diamani quartile. Jika dibagi kedalam 10 grup yang sama dinamakan percentile. Dalam kasus dibawah ini, ingin membagi distribusi menjadi empat grup atau quartile.\n",
        "\n",
        "nama_dataframe[\"nama_kolom\"].quantile([.25, .5, .75])\n"
      ],
      "metadata": {
        "id": "PIbioUv_7aGV"
      }
    },
    {
      "cell_type": "code",
      "source": [
        "# Quantile statistics kolom quantity\n",
        "print(\"kolom quantity: \")\n",
        "print(df['quantity'].quantile([0.25, 0.5, 0.75]))\n"
      ],
      "metadata": {
        "colab": {
          "base_uri": "https://localhost:8080/"
        },
        "id": "cgsVDC6D_c8f",
        "outputId": "acd95f22-8fe9-4b65-c212-27b560c16e23"
      },
      "execution_count": null,
      "outputs": [
        {
          "output_type": "stream",
          "name": "stdout",
          "text": [
            "kolom quantity: \n",
            "0.25     2.0\n",
            "0.50     5.0\n",
            "0.75    12.0\n",
            "Name: quantity, dtype: float64\n"
          ]
        }
      ]
    },
    {
      "cell_type": "markdown",
      "source": [
        "**Tugas Praktek**\n",
        "membuat distribusi quartile dari item_price dari dataframe retail_raw. Kalau ini sih seharusnya mudah"
      ],
      "metadata": {
        "id": "fldD2hiE_5Hu"
      }
    },
    {
      "cell_type": "code",
      "source": [
        "# Quantile statistics kolom item_price\n",
        "print(\"kolom item_price: \")\n",
        "print(df['item_price'].quantile([0.25, 0.5, 0.75]))"
      ],
      "metadata": {
        "colab": {
          "base_uri": "https://localhost:8080/"
        },
        "id": "44jZ8jXbAGXq",
        "outputId": "816346e3-8107-4d0c-ef7b-6dea685c8992"
      },
      "execution_count": null,
      "outputs": [
        {
          "output_type": "stream",
          "name": "stdout",
          "text": [
            "kolom quantity: \n",
            "0.25     450000.0\n",
            "0.50     604000.0\n",
            "0.75    1045000.0\n",
            "Name: item_price, dtype: float64\n"
          ]
        }
      ]
    },
    {
      "cell_type": "markdown",
      "source": [
        "**DESCRIPTIVE STATISTICS - PART 4** \n",
        "\n",
        "**Correlation** adalah cara yang tepat untuk menemukan hubungan antara variabel numerik. Koefisien korelasi berkisar antara -1 hingga 1. Korelasi 1 adalah korelasi positif total, korelasi -1 adalah korelasi negatif total dan korelasi 0 adalah korelasi non-linear.\n",
        "\n",
        "nama_dataframe[[\"nama_kolom\",\"nama_kolom\",\"...\"]].corr()\n",
        "\n",
        "**TUGAS PRAKTEK** \n",
        "\n",
        "korelasikan antara quantity dengan item_price "
      ],
      "metadata": {
        "id": "0MveoFatAP1D"
      }
    },
    {
      "cell_type": "code",
      "source": [
        "df[['quantity','item_price']].corr()"
      ],
      "metadata": {
        "colab": {
          "base_uri": "https://localhost:8080/",
          "height": 112
        },
        "id": "BQjWui3OCuVm",
        "outputId": "5016d9b7-04dd-4e3b-b4ee-d46f269c021f"
      },
      "execution_count": null,
      "outputs": [
        {
          "output_type": "execute_result",
          "data": {
            "text/plain": [
              "            quantity  item_price\n",
              "quantity    1.000000   -0.133936\n",
              "item_price -0.133936    1.000000"
            ],
            "text/html": [
              "\n",
              "  <div id=\"df-2a3e6e3a-4d05-4cee-80d7-cea1e15a07c8\">\n",
              "    <div class=\"colab-df-container\">\n",
              "      <div>\n",
              "<style scoped>\n",
              "    .dataframe tbody tr th:only-of-type {\n",
              "        vertical-align: middle;\n",
              "    }\n",
              "\n",
              "    .dataframe tbody tr th {\n",
              "        vertical-align: top;\n",
              "    }\n",
              "\n",
              "    .dataframe thead th {\n",
              "        text-align: right;\n",
              "    }\n",
              "</style>\n",
              "<table border=\"1\" class=\"dataframe\">\n",
              "  <thead>\n",
              "    <tr style=\"text-align: right;\">\n",
              "      <th></th>\n",
              "      <th>quantity</th>\n",
              "      <th>item_price</th>\n",
              "    </tr>\n",
              "  </thead>\n",
              "  <tbody>\n",
              "    <tr>\n",
              "      <th>quantity</th>\n",
              "      <td>1.000000</td>\n",
              "      <td>-0.133936</td>\n",
              "    </tr>\n",
              "    <tr>\n",
              "      <th>item_price</th>\n",
              "      <td>-0.133936</td>\n",
              "      <td>1.000000</td>\n",
              "    </tr>\n",
              "  </tbody>\n",
              "</table>\n",
              "</div>\n",
              "      <button class=\"colab-df-convert\" onclick=\"convertToInteractive('df-2a3e6e3a-4d05-4cee-80d7-cea1e15a07c8')\"\n",
              "              title=\"Convert this dataframe to an interactive table.\"\n",
              "              style=\"display:none;\">\n",
              "        \n",
              "  <svg xmlns=\"http://www.w3.org/2000/svg\" height=\"24px\"viewBox=\"0 0 24 24\"\n",
              "       width=\"24px\">\n",
              "    <path d=\"M0 0h24v24H0V0z\" fill=\"none\"/>\n",
              "    <path d=\"M18.56 5.44l.94 2.06.94-2.06 2.06-.94-2.06-.94-.94-2.06-.94 2.06-2.06.94zm-11 1L8.5 8.5l.94-2.06 2.06-.94-2.06-.94L8.5 2.5l-.94 2.06-2.06.94zm10 10l.94 2.06.94-2.06 2.06-.94-2.06-.94-.94-2.06-.94 2.06-2.06.94z\"/><path d=\"M17.41 7.96l-1.37-1.37c-.4-.4-.92-.59-1.43-.59-.52 0-1.04.2-1.43.59L10.3 9.45l-7.72 7.72c-.78.78-.78 2.05 0 2.83L4 21.41c.39.39.9.59 1.41.59.51 0 1.02-.2 1.41-.59l7.78-7.78 2.81-2.81c.8-.78.8-2.07 0-2.86zM5.41 20L4 18.59l7.72-7.72 1.47 1.35L5.41 20z\"/>\n",
              "  </svg>\n",
              "      </button>\n",
              "      \n",
              "  <style>\n",
              "    .colab-df-container {\n",
              "      display:flex;\n",
              "      flex-wrap:wrap;\n",
              "      gap: 12px;\n",
              "    }\n",
              "\n",
              "    .colab-df-convert {\n",
              "      background-color: #E8F0FE;\n",
              "      border: none;\n",
              "      border-radius: 50%;\n",
              "      cursor: pointer;\n",
              "      display: none;\n",
              "      fill: #1967D2;\n",
              "      height: 32px;\n",
              "      padding: 0 0 0 0;\n",
              "      width: 32px;\n",
              "    }\n",
              "\n",
              "    .colab-df-convert:hover {\n",
              "      background-color: #E2EBFA;\n",
              "      box-shadow: 0px 1px 2px rgba(60, 64, 67, 0.3), 0px 1px 3px 1px rgba(60, 64, 67, 0.15);\n",
              "      fill: #174EA6;\n",
              "    }\n",
              "\n",
              "    [theme=dark] .colab-df-convert {\n",
              "      background-color: #3B4455;\n",
              "      fill: #D2E3FC;\n",
              "    }\n",
              "\n",
              "    [theme=dark] .colab-df-convert:hover {\n",
              "      background-color: #434B5C;\n",
              "      box-shadow: 0px 1px 3px 1px rgba(0, 0, 0, 0.15);\n",
              "      filter: drop-shadow(0px 1px 2px rgba(0, 0, 0, 0.3));\n",
              "      fill: #FFFFFF;\n",
              "    }\n",
              "  </style>\n",
              "\n",
              "      <script>\n",
              "        const buttonEl =\n",
              "          document.querySelector('#df-2a3e6e3a-4d05-4cee-80d7-cea1e15a07c8 button.colab-df-convert');\n",
              "        buttonEl.style.display =\n",
              "          google.colab.kernel.accessAllowed ? 'block' : 'none';\n",
              "\n",
              "        async function convertToInteractive(key) {\n",
              "          const element = document.querySelector('#df-2a3e6e3a-4d05-4cee-80d7-cea1e15a07c8');\n",
              "          const dataTable =\n",
              "            await google.colab.kernel.invokeFunction('convertToInteractive',\n",
              "                                                     [key], {});\n",
              "          if (!dataTable) return;\n",
              "\n",
              "          const docLinkHtml = 'Like what you see? Visit the ' +\n",
              "            '<a target=\"_blank\" href=https://colab.research.google.com/notebooks/data_table.ipynb>data table notebook</a>'\n",
              "            + ' to learn more about interactive tables.';\n",
              "          element.innerHTML = '';\n",
              "          dataTable['output_type'] = 'display_data';\n",
              "          await google.colab.output.renderOutput(dataTable, element);\n",
              "          const docLink = document.createElement('div');\n",
              "          docLink.innerHTML = docLinkHtml;\n",
              "          element.appendChild(docLink);\n",
              "        }\n",
              "      </script>\n",
              "    </div>\n",
              "  </div>\n",
              "  "
            ]
          },
          "metadata": {},
          "execution_count": 27
        }
      ]
    },
    {
      "cell_type": "markdown",
      "source": [
        "**PENGGUNAAN PROFILING LIBRARIES**\n",
        "\n",
        "seperti yang terlihat di atas, mengumpulkan statistik deskriptif dapat menjadi proses yang panjang. Pandas profilling linrary memiliki function yang dapat membuat profiling data secara otomatis\n",
        "\n",
        "untuk dapat menggunakannya, cukup dengan memanggil library:\n",
        "\n",
        "`import pandas_profiling`\n",
        "\n",
        "syntax\n",
        "\n",
        "`pandas_profiling.profileReport(nama_dataframe)`\n",
        "\n",
        "contoh penggunaan untuk dataset retail_raw:\n",
        "\n",
        "pengunaan ProfileReport pada dataframe: retail_raw\n",
        "\n",
        "\n",
        "`pandas_profiling.ProfileReport(retail_raw)`\n",
        "\n",
        "\n"
      ],
      "metadata": {
        "id": "1zzQ5QimC8cS"
      }
    },
    {
      "cell_type": "code",
      "source": [
        "# Penggunaan Profiling Libraries\n",
        "\n",
        "# profile = pandas_profiling.ProfileReport(df)\n",
        "# profile"
      ],
      "metadata": {
        "id": "Kio9ryelC4p9"
      },
      "execution_count": null,
      "outputs": []
    },
    {
      "cell_type": "markdown",
      "source": [
        "**APA ITU DATA CLEANSING?**\n",
        "\n",
        "data cleansing adalah proses mengidentifikasi bagian data yang salah, tidak lengkap, tidak akurat tidak relevan atau hilang dan kemudian memodifikasi, mengganti atau menghapusnya sesuai kebutuhan. Data cleansing dianggap sebagai elemen dasar dari data science"
      ],
      "metadata": {
        "id": "GJdxG865I8_n"
      }
    },
    {
      "cell_type": "markdown",
      "source": [
        "***Missing Data***\n",
        "\n",
        "Dataset yang ditemui di real-world baisanya akan memiliki banyak missing value. Kemampuan untuk treatment missing value sangat penting karena jika membiarkan missing value itu dapat memnpengaruhi analisis dan machine learning model. Sehingga jika menemukan niai yang hilang dalam dataset, harus melakukan treatment sedemikian rupa. Cara check kolom yang mempunyai missing value:\n",
        "\n",
        "`nama_dataframe.isnull().any()`\n",
        "\n",
        "cara treatment terhadap missing-value antara lain:\n",
        "\n",
        "\n",
        "1.   leave as it is (dibiarkan)\n",
        "2.   filling the missing value (imputasi)\n",
        "3.   drop them (hapus row yang mengandung missing value)\n",
        "\n",
        "Imputasi merupakan suatu metode treatment terhadap missing value dengan mengisinya menggunakan teknik tertentu. Bisa menggunakan mean, modus ataupun menggunakan predictive modelling. Pada modul ini akan membahas mengenai pemanfaatan function *fillna* dari pandas untuk imputasi ini, yaitu :\n",
        "\n",
        "`nama_dataframe['nama_kolom'].fillna(nama_dataframe.nama_kolom.function())`\n",
        "\n",
        ".function() yang dimaksud pada syntax di atas adalah penggunaan fungsi ,mean() atau .mode(). Penggunaan fungsi .mean() atau .mode() ini bergantung pada kondisi yang mengharuskan menggunakan nilai rata-rata atau modus dari kolom yang akan diimputasi, seperti \n",
        "\n",
        "nama_dataframe['nama_kolom'].fillna(nama_dataframe.nama_kolom.mean())\n",
        "\n",
        "atau \n",
        "\n",
        "nama_dataframe['nama_kolom'].fillna(nama_dataframe.nama_kolom.mode())\n",
        "\n",
        "Drop row yang mengandung missing value. Dapat menggunakan function dropna dari pandas\n",
        "\n",
        "\n",
        "`nama_dataframe['nama_kolom'].dropna()`\n",
        "\n",
        "untuk menangani missing data pada retail_raw,\n",
        "\n",
        "\n",
        "*   ceklah jika terdapat missing value pada variabel dataframe, dan kemudian cetak ke console\n",
        "*   Imputasi missing value pada kolom quantity dengan menggunakan nilai rataan (mean), dan kemudian cetak ke console\n",
        "*   Drop-lah missing value pada kolom quantity, dan kemudian cetak ke console\n",
        "\n",
        "\n",
        "\n",
        "\n",
        "\n",
        "\n",
        "\n",
        "\n"
      ],
      "metadata": {
        "id": "lQk0M8iIQ6CG"
      }
    },
    {
      "cell_type": "markdown",
      "source": [
        "**Tugas Praktek**\n",
        "\n",
        "temukan missing value pada kolom item_price\n"
      ],
      "metadata": {
        "id": "GfZCzClT20z6"
      }
    },
    {
      "cell_type": "code",
      "source": [
        "# tugas praktek\n",
        "\n",
        "df.isnull().any()"
      ],
      "metadata": {
        "colab": {
          "base_uri": "https://localhost:8080/"
        },
        "id": "p3bhLPGn2WPm",
        "outputId": "cbb7d3b6-fd2b-44c2-dddf-0dcfd2cee87b"
      },
      "execution_count": 9,
      "outputs": [
        {
          "output_type": "execute_result",
          "data": {
            "text/plain": [
              "order_id       False\n",
              "order_date     False\n",
              "customer_id    False\n",
              "city            True\n",
              "province        True\n",
              "product_id      True\n",
              "brand          False\n",
              "quantity        True\n",
              "item_price      True\n",
              "dtype: bool"
            ]
          },
          "metadata": {},
          "execution_count": 9
        }
      ]
    },
    {
      "cell_type": "code",
      "source": [
        "df['item_price'].fillna(df.item_price.mean())"
      ],
      "metadata": {
        "colab": {
          "base_uri": "https://localhost:8080/"
        },
        "id": "OH84Lw533iyq",
        "outputId": "bd1ab668-9699-4205-8802-7c9a00f21601"
      },
      "execution_count": 11,
      "outputs": [
        {
          "output_type": "execute_result",
          "data": {
            "text/plain": [
              "0       7.400000e+05\n",
              "1       6.040000e+05\n",
              "2       1.045000e+06\n",
              "3       2.050000e+05\n",
              "4       9.337427e+05\n",
              "            ...     \n",
              "4995    4.500000e+05\n",
              "4996    1.465000e+06\n",
              "4997    7.470000e+05\n",
              "4998    6.950000e+05\n",
              "4999    1.045000e+06\n",
              "Name: item_price, Length: 5000, dtype: float64"
            ]
          },
          "metadata": {},
          "execution_count": 11
        }
      ]
    },
    {
      "cell_type": "markdown",
      "source": [
        "**OUTLIERS**\n",
        "\n",
        "Outliers merupakan data observasi yang muncul dengan nilai-nilai ekstrim. Yang dimaksud dengan nilai-nilai ekstrim dalam observasi adalah nilai yang jauh atau beda sama sekali dengan sebagian besar nilai lain dalam kelompoknya.\n",
        "\n",
        "Cara treatment terhadap outliers antara lain:\n",
        "\n",
        "\n",
        "\n",
        "1.   Remove the outliers (dibuang)\n",
        "2.   filling the missing value (imputasi)\n",
        "3.   capping\n",
        "4.   prediction\n",
        "\n",
        "\n",
        "Pada umumnya, outliers dapat ditentukan dengan metric IQR (interquartile range).\n",
        "Rumus dasar dari IQR: Q3 - Q1, dan data suatu observasi dapat diaktakan outliers jika memenuhi kedua syarat dibawah ini:\n",
        "\n",
        "\n",
        "*   < Q1 - 1.5 * IQR\n",
        "*   *>* Q3 + 1.5 * IQR\n",
        "\n",
        "syntax di python:\n",
        "\n",
        "Q1 = `nama_dataframe.quantile(0.25)`\n",
        "\n",
        "Q3 = `nama_dataframe.quantile(0.75)`\n",
        "\n",
        "IQR = Q3 - Q1\n",
        "\n",
        "Kemudian untuk membuang outliers-nya:\n",
        "\n",
        "`nama_dataframe = nama_dataframe[~(((nama_dataframe < (Q1 - 1.5*IQR))|(nama_dataframe > (Q3+1.5*IQR)))]`\n"
      ],
      "metadata": {
        "id": "0C7I3cS54lnp"
      }
    },
    {
      "cell_type": "code",
      "source": [
        "# Q1, Q3, dan IQR\n",
        "Q1 = df['quantity'].quantile(0.25)\n",
        "Q3 = df['quantity'].quantile(0.75)\n",
        "IQR = Q3 - Q1\n",
        "\n",
        "# check ukuran (baris dan kolom) sebelum data yang outliers dibuang\n",
        "print('shape awal : ', df.shape)\n",
        "\n",
        "# removing outliers \n",
        "df = df[~((df['quantity'] < (Q1 - 1.5 * IQR))|(df['quantity'] > (Q3 + 1.5 * IQR)))]\n",
        "\n",
        "# check ukuran baris (baris dan kolom) setelah data yang outliers dibuang\n",
        "print('shape akhir: ', df.shape)"
      ],
      "metadata": {
        "id": "wDX-h6Qr3s7t"
      },
      "execution_count": null,
      "outputs": []
    },
    {
      "cell_type": "markdown",
      "source": [
        "TUGAS PRAKTEK \n",
        "\n",
        "setelha berhasil mengatasi missing value tadi, aku memutuskan untuk mencoba menemukan sejumlah outliers menggunakan IQR. Dengan begitu aku bisa mengetahui berapa IQR dari variabel item_price.\n"
      ],
      "metadata": {
        "id": "BEF6ry_79UDc"
      }
    },
    {
      "cell_type": "code",
      "source": [
        "# IQR dari item_price\n",
        "Q1 = df['item_price'].quantile(0.25)\n",
        "Q3 = df['item_price'].quantile(0.75)\n",
        "IQR = Q3 - Q1\n",
        "IQR"
      ],
      "metadata": {
        "colab": {
          "base_uri": "https://localhost:8080/"
        },
        "id": "PZfIgEG792eH",
        "outputId": "099cf062-7e90-4648-e85b-c68bfec955a4"
      },
      "execution_count": 12,
      "outputs": [
        {
          "output_type": "execute_result",
          "data": {
            "text/plain": [
              "595000.0"
            ]
          },
          "metadata": {},
          "execution_count": 12
        }
      ]
    },
    {
      "cell_type": "markdown",
      "source": [
        "**DEDUPLIKASI DATA**\n",
        "\n",
        "Duplikasi data merupakan data dengan kondisi pada row-row tertentu memiliki kesamaan data di seluruh kolomnya. Tentunya ada data yang duplikat dalam dataset yang dimiliki. Kondisi duplikasi harus diatasi dengan jalan mengeliminir baris yang mengalami duplikasi, sehingga proses ini dikenal dengan deduplikasi \n",
        "\n",
        "untuk mengecek duplikasi data:\n",
        "\n",
        "`nama_dataframe.duplicated(subset=None)`\n",
        "\n",
        "syntax untuk membuang duplikasi:\n",
        "\n",
        "`nama_dataframe.drop_duplicates()`\n",
        "\n",
        "TUGAS PRAKTEK\n",
        "\n",
        "membuang duplikasi data dari dataset retail_raw\n",
        "\n"
      ],
      "metadata": {
        "id": "gSh82wl89yiG"
      }
    },
    {
      "cell_type": "code",
      "source": [
        "# membuang duplikasi dari dataset retail_raw\n",
        "\n",
        "df.duplicated(subset=None)\n",
        "df.drop_duplicates()"
      ],
      "metadata": {
        "colab": {
          "base_uri": "https://localhost:8080/",
          "height": 423
        },
        "id": "qb8W-yaE_qtU",
        "outputId": "a65d6ffe-eac1-4801-9631-108feab9999f"
      },
      "execution_count": 15,
      "outputs": [
        {
          "output_type": "execute_result",
          "data": {
            "text/plain": [
              "      order_id  order_date  customer_id             city     province  \\\n",
              "0      1703458  17/10/2019        14004  Jakarta Selatan  DKI Jakarta   \n",
              "1      1706815  24/10/2019        17220  Jakarta Selatan  DKI Jakarta   \n",
              "2      1710718  03/11/2019        16518    Jakarta Utara  DKI Jakarta   \n",
              "3      1683592  19/08/2019        16364    Jakarta Barat  DKI Jakarta   \n",
              "4      1702573  16/10/2019        15696    Jakarta Timur  DKI Jakarta   \n",
              "...        ...         ...          ...              ...          ...   \n",
              "4995   1724011  01/12/2019        12838        Tangerang       Banten   \n",
              "4996   1676302  28/07/2019        13833            Bogor   Jawa Barat   \n",
              "4997   1706071  23/10/2019        16332    Jakarta Timur  DKI Jakarta   \n",
              "4998   1703620  17/10/2019        13055    Jakarta Barat  DKI Jakarta   \n",
              "4999   1720036  24/11/2019        17609    Jakarta Pusat  DKI Jakarta   \n",
              "\n",
              "     product_id    brand  quantity  item_price  \n",
              "0         P1910  BRAND_J      10.0    740000.0  \n",
              "1         P2934  BRAND_R       2.0    604000.0  \n",
              "2         P0908  BRAND_C       8.0   1045000.0  \n",
              "3         P0128  BRAND_A       4.0    205000.0  \n",
              "4         P2968  BRAND_R       2.0         NaN  \n",
              "...         ...      ...       ...         ...  \n",
              "4995      P3047  BRAND_R       2.0    450000.0  \n",
              "4996      P0760  BRAND_C       3.0   1465000.0  \n",
              "4997      P1681  BRAND_H       4.0    747000.0  \n",
              "4998      P0757  BRAND_C       8.0    695000.0  \n",
              "4999      P3334  BRAND_S       1.0   1045000.0  \n",
              "\n",
              "[4993 rows x 9 columns]"
            ],
            "text/html": [
              "\n",
              "  <div id=\"df-6141580a-6553-4f01-ab0d-afb43e1f1ca7\">\n",
              "    <div class=\"colab-df-container\">\n",
              "      <div>\n",
              "<style scoped>\n",
              "    .dataframe tbody tr th:only-of-type {\n",
              "        vertical-align: middle;\n",
              "    }\n",
              "\n",
              "    .dataframe tbody tr th {\n",
              "        vertical-align: top;\n",
              "    }\n",
              "\n",
              "    .dataframe thead th {\n",
              "        text-align: right;\n",
              "    }\n",
              "</style>\n",
              "<table border=\"1\" class=\"dataframe\">\n",
              "  <thead>\n",
              "    <tr style=\"text-align: right;\">\n",
              "      <th></th>\n",
              "      <th>order_id</th>\n",
              "      <th>order_date</th>\n",
              "      <th>customer_id</th>\n",
              "      <th>city</th>\n",
              "      <th>province</th>\n",
              "      <th>product_id</th>\n",
              "      <th>brand</th>\n",
              "      <th>quantity</th>\n",
              "      <th>item_price</th>\n",
              "    </tr>\n",
              "  </thead>\n",
              "  <tbody>\n",
              "    <tr>\n",
              "      <th>0</th>\n",
              "      <td>1703458</td>\n",
              "      <td>17/10/2019</td>\n",
              "      <td>14004</td>\n",
              "      <td>Jakarta Selatan</td>\n",
              "      <td>DKI Jakarta</td>\n",
              "      <td>P1910</td>\n",
              "      <td>BRAND_J</td>\n",
              "      <td>10.0</td>\n",
              "      <td>740000.0</td>\n",
              "    </tr>\n",
              "    <tr>\n",
              "      <th>1</th>\n",
              "      <td>1706815</td>\n",
              "      <td>24/10/2019</td>\n",
              "      <td>17220</td>\n",
              "      <td>Jakarta Selatan</td>\n",
              "      <td>DKI Jakarta</td>\n",
              "      <td>P2934</td>\n",
              "      <td>BRAND_R</td>\n",
              "      <td>2.0</td>\n",
              "      <td>604000.0</td>\n",
              "    </tr>\n",
              "    <tr>\n",
              "      <th>2</th>\n",
              "      <td>1710718</td>\n",
              "      <td>03/11/2019</td>\n",
              "      <td>16518</td>\n",
              "      <td>Jakarta Utara</td>\n",
              "      <td>DKI Jakarta</td>\n",
              "      <td>P0908</td>\n",
              "      <td>BRAND_C</td>\n",
              "      <td>8.0</td>\n",
              "      <td>1045000.0</td>\n",
              "    </tr>\n",
              "    <tr>\n",
              "      <th>3</th>\n",
              "      <td>1683592</td>\n",
              "      <td>19/08/2019</td>\n",
              "      <td>16364</td>\n",
              "      <td>Jakarta Barat</td>\n",
              "      <td>DKI Jakarta</td>\n",
              "      <td>P0128</td>\n",
              "      <td>BRAND_A</td>\n",
              "      <td>4.0</td>\n",
              "      <td>205000.0</td>\n",
              "    </tr>\n",
              "    <tr>\n",
              "      <th>4</th>\n",
              "      <td>1702573</td>\n",
              "      <td>16/10/2019</td>\n",
              "      <td>15696</td>\n",
              "      <td>Jakarta Timur</td>\n",
              "      <td>DKI Jakarta</td>\n",
              "      <td>P2968</td>\n",
              "      <td>BRAND_R</td>\n",
              "      <td>2.0</td>\n",
              "      <td>NaN</td>\n",
              "    </tr>\n",
              "    <tr>\n",
              "      <th>...</th>\n",
              "      <td>...</td>\n",
              "      <td>...</td>\n",
              "      <td>...</td>\n",
              "      <td>...</td>\n",
              "      <td>...</td>\n",
              "      <td>...</td>\n",
              "      <td>...</td>\n",
              "      <td>...</td>\n",
              "      <td>...</td>\n",
              "    </tr>\n",
              "    <tr>\n",
              "      <th>4995</th>\n",
              "      <td>1724011</td>\n",
              "      <td>01/12/2019</td>\n",
              "      <td>12838</td>\n",
              "      <td>Tangerang</td>\n",
              "      <td>Banten</td>\n",
              "      <td>P3047</td>\n",
              "      <td>BRAND_R</td>\n",
              "      <td>2.0</td>\n",
              "      <td>450000.0</td>\n",
              "    </tr>\n",
              "    <tr>\n",
              "      <th>4996</th>\n",
              "      <td>1676302</td>\n",
              "      <td>28/07/2019</td>\n",
              "      <td>13833</td>\n",
              "      <td>Bogor</td>\n",
              "      <td>Jawa Barat</td>\n",
              "      <td>P0760</td>\n",
              "      <td>BRAND_C</td>\n",
              "      <td>3.0</td>\n",
              "      <td>1465000.0</td>\n",
              "    </tr>\n",
              "    <tr>\n",
              "      <th>4997</th>\n",
              "      <td>1706071</td>\n",
              "      <td>23/10/2019</td>\n",
              "      <td>16332</td>\n",
              "      <td>Jakarta Timur</td>\n",
              "      <td>DKI Jakarta</td>\n",
              "      <td>P1681</td>\n",
              "      <td>BRAND_H</td>\n",
              "      <td>4.0</td>\n",
              "      <td>747000.0</td>\n",
              "    </tr>\n",
              "    <tr>\n",
              "      <th>4998</th>\n",
              "      <td>1703620</td>\n",
              "      <td>17/10/2019</td>\n",
              "      <td>13055</td>\n",
              "      <td>Jakarta Barat</td>\n",
              "      <td>DKI Jakarta</td>\n",
              "      <td>P0757</td>\n",
              "      <td>BRAND_C</td>\n",
              "      <td>8.0</td>\n",
              "      <td>695000.0</td>\n",
              "    </tr>\n",
              "    <tr>\n",
              "      <th>4999</th>\n",
              "      <td>1720036</td>\n",
              "      <td>24/11/2019</td>\n",
              "      <td>17609</td>\n",
              "      <td>Jakarta Pusat</td>\n",
              "      <td>DKI Jakarta</td>\n",
              "      <td>P3334</td>\n",
              "      <td>BRAND_S</td>\n",
              "      <td>1.0</td>\n",
              "      <td>1045000.0</td>\n",
              "    </tr>\n",
              "  </tbody>\n",
              "</table>\n",
              "<p>4993 rows × 9 columns</p>\n",
              "</div>\n",
              "      <button class=\"colab-df-convert\" onclick=\"convertToInteractive('df-6141580a-6553-4f01-ab0d-afb43e1f1ca7')\"\n",
              "              title=\"Convert this dataframe to an interactive table.\"\n",
              "              style=\"display:none;\">\n",
              "        \n",
              "  <svg xmlns=\"http://www.w3.org/2000/svg\" height=\"24px\"viewBox=\"0 0 24 24\"\n",
              "       width=\"24px\">\n",
              "    <path d=\"M0 0h24v24H0V0z\" fill=\"none\"/>\n",
              "    <path d=\"M18.56 5.44l.94 2.06.94-2.06 2.06-.94-2.06-.94-.94-2.06-.94 2.06-2.06.94zm-11 1L8.5 8.5l.94-2.06 2.06-.94-2.06-.94L8.5 2.5l-.94 2.06-2.06.94zm10 10l.94 2.06.94-2.06 2.06-.94-2.06-.94-.94-2.06-.94 2.06-2.06.94z\"/><path d=\"M17.41 7.96l-1.37-1.37c-.4-.4-.92-.59-1.43-.59-.52 0-1.04.2-1.43.59L10.3 9.45l-7.72 7.72c-.78.78-.78 2.05 0 2.83L4 21.41c.39.39.9.59 1.41.59.51 0 1.02-.2 1.41-.59l7.78-7.78 2.81-2.81c.8-.78.8-2.07 0-2.86zM5.41 20L4 18.59l7.72-7.72 1.47 1.35L5.41 20z\"/>\n",
              "  </svg>\n",
              "      </button>\n",
              "      \n",
              "  <style>\n",
              "    .colab-df-container {\n",
              "      display:flex;\n",
              "      flex-wrap:wrap;\n",
              "      gap: 12px;\n",
              "    }\n",
              "\n",
              "    .colab-df-convert {\n",
              "      background-color: #E8F0FE;\n",
              "      border: none;\n",
              "      border-radius: 50%;\n",
              "      cursor: pointer;\n",
              "      display: none;\n",
              "      fill: #1967D2;\n",
              "      height: 32px;\n",
              "      padding: 0 0 0 0;\n",
              "      width: 32px;\n",
              "    }\n",
              "\n",
              "    .colab-df-convert:hover {\n",
              "      background-color: #E2EBFA;\n",
              "      box-shadow: 0px 1px 2px rgba(60, 64, 67, 0.3), 0px 1px 3px 1px rgba(60, 64, 67, 0.15);\n",
              "      fill: #174EA6;\n",
              "    }\n",
              "\n",
              "    [theme=dark] .colab-df-convert {\n",
              "      background-color: #3B4455;\n",
              "      fill: #D2E3FC;\n",
              "    }\n",
              "\n",
              "    [theme=dark] .colab-df-convert:hover {\n",
              "      background-color: #434B5C;\n",
              "      box-shadow: 0px 1px 3px 1px rgba(0, 0, 0, 0.15);\n",
              "      filter: drop-shadow(0px 1px 2px rgba(0, 0, 0, 0.3));\n",
              "      fill: #FFFFFF;\n",
              "    }\n",
              "  </style>\n",
              "\n",
              "      <script>\n",
              "        const buttonEl =\n",
              "          document.querySelector('#df-6141580a-6553-4f01-ab0d-afb43e1f1ca7 button.colab-df-convert');\n",
              "        buttonEl.style.display =\n",
              "          google.colab.kernel.accessAllowed ? 'block' : 'none';\n",
              "\n",
              "        async function convertToInteractive(key) {\n",
              "          const element = document.querySelector('#df-6141580a-6553-4f01-ab0d-afb43e1f1ca7');\n",
              "          const dataTable =\n",
              "            await google.colab.kernel.invokeFunction('convertToInteractive',\n",
              "                                                     [key], {});\n",
              "          if (!dataTable) return;\n",
              "\n",
              "          const docLinkHtml = 'Like what you see? Visit the ' +\n",
              "            '<a target=\"_blank\" href=https://colab.research.google.com/notebooks/data_table.ipynb>data table notebook</a>'\n",
              "            + ' to learn more about interactive tables.';\n",
              "          element.innerHTML = '';\n",
              "          dataTable['output_type'] = 'display_data';\n",
              "          await google.colab.output.renderOutput(dataTable, element);\n",
              "          const docLink = document.createElement('div');\n",
              "          docLink.innerHTML = docLinkHtml;\n",
              "          element.appendChild(docLink);\n",
              "        }\n",
              "      </script>\n",
              "    </div>\n",
              "  </div>\n",
              "  "
            ]
          },
          "metadata": {},
          "execution_count": 15
        }
      ]
    },
    {
      "cell_type": "markdown",
      "source": [
        "CHAPTER 3 - Mini Project\n",
        "\n",
        "Pendahuluan\n",
        "Tolong proses dataset terlampir yang disimpan dalam bentuk csv url : https://raw.githubusercontent.com/imam7710/Data-Engineering/main/uncleaned_raw.csv\n",
        "\n",
        "proses data ini dengan cara berikut :\n",
        "1. import dataset ke variabel bernama uncleaned_raw\n",
        "2. inspeksi dataframe uncleaned_raw\n",
        "3. check kolom yang mengandung missing value. Jika ada, kolom apakah itu dan berapa persen missing value pada kolom tersebut?\n",
        "4. Mengisi missing value tersebut dengan mean dari kolom tersebut\n",
        "\n",
        "CASE Study : Data Cleansing - Part 1\n",
        "\n",
        "untuk memprosesnya bisa dilakukan dengan cara berikut :\n",
        "5. Mengetahui kolom yang memiliki outliers! gunakan visualisasi dengan boxplot pada dataframe uncleaned_raw\n",
        "\n",
        "CASE study : Data cleansing - Part 2\n",
        "\n",
        "Langkah selanjutnya bisa dilakukan dengan cara berikut :\n",
        "6. Melakukan proses removing outliers pada kolom unitPrice\n",
        "\n",
        "7. Checking duplikasid an melakukan deduplikasi dataset tersebut\n",
        "\n"
      ],
      "metadata": {
        "id": "nAjZVl0eAH1U"
      }
    },
    {
      "cell_type": "code",
      "source": [
        "# mini project\n",
        "\n",
        "url = pd.read_csv('https://raw.githubusercontent.com/imam7710/Data-Engineering/main/uncleaned_raw.csv')\n",
        "uncleaned_raw  = pd.DataFrame(url)\n",
        "uncleaned_raw\n"
      ],
      "metadata": {
        "colab": {
          "base_uri": "https://localhost:8080/"
        },
        "id": "OXJlerDpEprP",
        "outputId": "88088dba-3047-4b5a-ecb3-058ce0f3b2e4"
      },
      "execution_count": 21,
      "outputs": [
        {
          "output_type": "execute_result",
          "data": {
            "text/plain": [
              "array(['InvoiceNo', 'Description', 'Quantity', 'InvoiceDate', 'UnitPrice',\n",
              "       'CustomerID', 'City'], dtype=object)"
            ]
          },
          "metadata": {},
          "execution_count": 21
        }
      ]
    },
    {
      "cell_type": "code",
      "source": [
        "uncleaned_raw"
      ],
      "metadata": {
        "colab": {
          "base_uri": "https://localhost:8080/",
          "height": 423
        },
        "id": "tHkB3PNiVzQq",
        "outputId": "366631e3-dc8b-4062-d0bb-ae056a6cf0c2"
      },
      "execution_count": 43,
      "outputs": [
        {
          "output_type": "execute_result",
          "data": {
            "text/plain": [
              "     InvoiceNo                          Description  Quantity     InvoiceDate  \\\n",
              "0       536365   WHITE HANGING HEART T-LIGHT HOLDER       6.0  12/01/10 08.26   \n",
              "1       536366                  WHITE METAL LANTERN       6.0  12/01/10 08.26   \n",
              "2       536367       CREAM CUPID HEARTS COAT HANGER       8.0  12/01/10 08.26   \n",
              "3       536368  KNITTED UNION FLAG HOT WATER BOTTLE       6.0  12/01/10 08.26   \n",
              "4       536369       RED WOOLLY HOTTIE WHITE HEART.       6.0  12/01/10 08.26   \n",
              "..         ...                                  ...       ...             ...   \n",
              "500     536772       PACK OF 60 SPACEBOY CAKE CASES      24.0  12/01/10 11.29   \n",
              "501     536773      PACK OF 72 RETROSPOT CAKE CASES      24.0  12/01/10 11.29   \n",
              "502     536774       72 SWEETHEART FAIRY CAKE CASES      24.0  12/01/10 11.29   \n",
              "503     536775       PACK OF 60 DINOSAUR CAKE CASES      24.0  12/01/10 11.29   \n",
              "504     536776               LUNCH BAG SUKI  DESIGN      10.0  12/01/10 11.29   \n",
              "\n",
              "     UnitPrice  CustomerID      City  \n",
              "0        29000       17850  Surabaya  \n",
              "1        41000       17850  Surabaya  \n",
              "2        18000       17850  Surabaya  \n",
              "3        38000       17850   Jakarta  \n",
              "4        27000       17850     Medan  \n",
              "..         ...         ...       ...  \n",
              "500      41000       16218  Surabaya  \n",
              "501      35000       16218  Surabaya  \n",
              "502      32000       16218     Medan  \n",
              "503      31000       16218  Surabaya  \n",
              "504      39000       16218   Jakarta  \n",
              "\n",
              "[505 rows x 7 columns]"
            ],
            "text/html": [
              "\n",
              "  <div id=\"df-c48c3870-bc14-4ae9-98b1-b0dc8b0c529a\">\n",
              "    <div class=\"colab-df-container\">\n",
              "      <div>\n",
              "<style scoped>\n",
              "    .dataframe tbody tr th:only-of-type {\n",
              "        vertical-align: middle;\n",
              "    }\n",
              "\n",
              "    .dataframe tbody tr th {\n",
              "        vertical-align: top;\n",
              "    }\n",
              "\n",
              "    .dataframe thead th {\n",
              "        text-align: right;\n",
              "    }\n",
              "</style>\n",
              "<table border=\"1\" class=\"dataframe\">\n",
              "  <thead>\n",
              "    <tr style=\"text-align: right;\">\n",
              "      <th></th>\n",
              "      <th>InvoiceNo</th>\n",
              "      <th>Description</th>\n",
              "      <th>Quantity</th>\n",
              "      <th>InvoiceDate</th>\n",
              "      <th>UnitPrice</th>\n",
              "      <th>CustomerID</th>\n",
              "      <th>City</th>\n",
              "    </tr>\n",
              "  </thead>\n",
              "  <tbody>\n",
              "    <tr>\n",
              "      <th>0</th>\n",
              "      <td>536365</td>\n",
              "      <td>WHITE HANGING HEART T-LIGHT HOLDER</td>\n",
              "      <td>6.0</td>\n",
              "      <td>12/01/10 08.26</td>\n",
              "      <td>29000</td>\n",
              "      <td>17850</td>\n",
              "      <td>Surabaya</td>\n",
              "    </tr>\n",
              "    <tr>\n",
              "      <th>1</th>\n",
              "      <td>536366</td>\n",
              "      <td>WHITE METAL LANTERN</td>\n",
              "      <td>6.0</td>\n",
              "      <td>12/01/10 08.26</td>\n",
              "      <td>41000</td>\n",
              "      <td>17850</td>\n",
              "      <td>Surabaya</td>\n",
              "    </tr>\n",
              "    <tr>\n",
              "      <th>2</th>\n",
              "      <td>536367</td>\n",
              "      <td>CREAM CUPID HEARTS COAT HANGER</td>\n",
              "      <td>8.0</td>\n",
              "      <td>12/01/10 08.26</td>\n",
              "      <td>18000</td>\n",
              "      <td>17850</td>\n",
              "      <td>Surabaya</td>\n",
              "    </tr>\n",
              "    <tr>\n",
              "      <th>3</th>\n",
              "      <td>536368</td>\n",
              "      <td>KNITTED UNION FLAG HOT WATER BOTTLE</td>\n",
              "      <td>6.0</td>\n",
              "      <td>12/01/10 08.26</td>\n",
              "      <td>38000</td>\n",
              "      <td>17850</td>\n",
              "      <td>Jakarta</td>\n",
              "    </tr>\n",
              "    <tr>\n",
              "      <th>4</th>\n",
              "      <td>536369</td>\n",
              "      <td>RED WOOLLY HOTTIE WHITE HEART.</td>\n",
              "      <td>6.0</td>\n",
              "      <td>12/01/10 08.26</td>\n",
              "      <td>27000</td>\n",
              "      <td>17850</td>\n",
              "      <td>Medan</td>\n",
              "    </tr>\n",
              "    <tr>\n",
              "      <th>...</th>\n",
              "      <td>...</td>\n",
              "      <td>...</td>\n",
              "      <td>...</td>\n",
              "      <td>...</td>\n",
              "      <td>...</td>\n",
              "      <td>...</td>\n",
              "      <td>...</td>\n",
              "    </tr>\n",
              "    <tr>\n",
              "      <th>500</th>\n",
              "      <td>536772</td>\n",
              "      <td>PACK OF 60 SPACEBOY CAKE CASES</td>\n",
              "      <td>24.0</td>\n",
              "      <td>12/01/10 11.29</td>\n",
              "      <td>41000</td>\n",
              "      <td>16218</td>\n",
              "      <td>Surabaya</td>\n",
              "    </tr>\n",
              "    <tr>\n",
              "      <th>501</th>\n",
              "      <td>536773</td>\n",
              "      <td>PACK OF 72 RETROSPOT CAKE CASES</td>\n",
              "      <td>24.0</td>\n",
              "      <td>12/01/10 11.29</td>\n",
              "      <td>35000</td>\n",
              "      <td>16218</td>\n",
              "      <td>Surabaya</td>\n",
              "    </tr>\n",
              "    <tr>\n",
              "      <th>502</th>\n",
              "      <td>536774</td>\n",
              "      <td>72 SWEETHEART FAIRY CAKE CASES</td>\n",
              "      <td>24.0</td>\n",
              "      <td>12/01/10 11.29</td>\n",
              "      <td>32000</td>\n",
              "      <td>16218</td>\n",
              "      <td>Medan</td>\n",
              "    </tr>\n",
              "    <tr>\n",
              "      <th>503</th>\n",
              "      <td>536775</td>\n",
              "      <td>PACK OF 60 DINOSAUR CAKE CASES</td>\n",
              "      <td>24.0</td>\n",
              "      <td>12/01/10 11.29</td>\n",
              "      <td>31000</td>\n",
              "      <td>16218</td>\n",
              "      <td>Surabaya</td>\n",
              "    </tr>\n",
              "    <tr>\n",
              "      <th>504</th>\n",
              "      <td>536776</td>\n",
              "      <td>LUNCH BAG SUKI  DESIGN</td>\n",
              "      <td>10.0</td>\n",
              "      <td>12/01/10 11.29</td>\n",
              "      <td>39000</td>\n",
              "      <td>16218</td>\n",
              "      <td>Jakarta</td>\n",
              "    </tr>\n",
              "  </tbody>\n",
              "</table>\n",
              "<p>505 rows × 7 columns</p>\n",
              "</div>\n",
              "      <button class=\"colab-df-convert\" onclick=\"convertToInteractive('df-c48c3870-bc14-4ae9-98b1-b0dc8b0c529a')\"\n",
              "              title=\"Convert this dataframe to an interactive table.\"\n",
              "              style=\"display:none;\">\n",
              "        \n",
              "  <svg xmlns=\"http://www.w3.org/2000/svg\" height=\"24px\"viewBox=\"0 0 24 24\"\n",
              "       width=\"24px\">\n",
              "    <path d=\"M0 0h24v24H0V0z\" fill=\"none\"/>\n",
              "    <path d=\"M18.56 5.44l.94 2.06.94-2.06 2.06-.94-2.06-.94-.94-2.06-.94 2.06-2.06.94zm-11 1L8.5 8.5l.94-2.06 2.06-.94-2.06-.94L8.5 2.5l-.94 2.06-2.06.94zm10 10l.94 2.06.94-2.06 2.06-.94-2.06-.94-.94-2.06-.94 2.06-2.06.94z\"/><path d=\"M17.41 7.96l-1.37-1.37c-.4-.4-.92-.59-1.43-.59-.52 0-1.04.2-1.43.59L10.3 9.45l-7.72 7.72c-.78.78-.78 2.05 0 2.83L4 21.41c.39.39.9.59 1.41.59.51 0 1.02-.2 1.41-.59l7.78-7.78 2.81-2.81c.8-.78.8-2.07 0-2.86zM5.41 20L4 18.59l7.72-7.72 1.47 1.35L5.41 20z\"/>\n",
              "  </svg>\n",
              "      </button>\n",
              "      \n",
              "  <style>\n",
              "    .colab-df-container {\n",
              "      display:flex;\n",
              "      flex-wrap:wrap;\n",
              "      gap: 12px;\n",
              "    }\n",
              "\n",
              "    .colab-df-convert {\n",
              "      background-color: #E8F0FE;\n",
              "      border: none;\n",
              "      border-radius: 50%;\n",
              "      cursor: pointer;\n",
              "      display: none;\n",
              "      fill: #1967D2;\n",
              "      height: 32px;\n",
              "      padding: 0 0 0 0;\n",
              "      width: 32px;\n",
              "    }\n",
              "\n",
              "    .colab-df-convert:hover {\n",
              "      background-color: #E2EBFA;\n",
              "      box-shadow: 0px 1px 2px rgba(60, 64, 67, 0.3), 0px 1px 3px 1px rgba(60, 64, 67, 0.15);\n",
              "      fill: #174EA6;\n",
              "    }\n",
              "\n",
              "    [theme=dark] .colab-df-convert {\n",
              "      background-color: #3B4455;\n",
              "      fill: #D2E3FC;\n",
              "    }\n",
              "\n",
              "    [theme=dark] .colab-df-convert:hover {\n",
              "      background-color: #434B5C;\n",
              "      box-shadow: 0px 1px 3px 1px rgba(0, 0, 0, 0.15);\n",
              "      filter: drop-shadow(0px 1px 2px rgba(0, 0, 0, 0.3));\n",
              "      fill: #FFFFFF;\n",
              "    }\n",
              "  </style>\n",
              "\n",
              "      <script>\n",
              "        const buttonEl =\n",
              "          document.querySelector('#df-c48c3870-bc14-4ae9-98b1-b0dc8b0c529a button.colab-df-convert');\n",
              "        buttonEl.style.display =\n",
              "          google.colab.kernel.accessAllowed ? 'block' : 'none';\n",
              "\n",
              "        async function convertToInteractive(key) {\n",
              "          const element = document.querySelector('#df-c48c3870-bc14-4ae9-98b1-b0dc8b0c529a');\n",
              "          const dataTable =\n",
              "            await google.colab.kernel.invokeFunction('convertToInteractive',\n",
              "                                                     [key], {});\n",
              "          if (!dataTable) return;\n",
              "\n",
              "          const docLinkHtml = 'Like what you see? Visit the ' +\n",
              "            '<a target=\"_blank\" href=https://colab.research.google.com/notebooks/data_table.ipynb>data table notebook</a>'\n",
              "            + ' to learn more about interactive tables.';\n",
              "          element.innerHTML = '';\n",
              "          dataTable['output_type'] = 'display_data';\n",
              "          await google.colab.output.renderOutput(dataTable, element);\n",
              "          const docLink = document.createElement('div');\n",
              "          docLink.innerHTML = docLinkHtml;\n",
              "          element.appendChild(docLink);\n",
              "        }\n",
              "      </script>\n",
              "    </div>\n",
              "  </div>\n",
              "  "
            ]
          },
          "metadata": {},
          "execution_count": 43
        }
      ]
    },
    {
      "cell_type": "code",
      "source": [
        "uncleaned_raw['City'].value_counts"
      ],
      "metadata": {
        "colab": {
          "base_uri": "https://localhost:8080/"
        },
        "id": "20gxpxHPfpvy",
        "outputId": "df44d205-b2a4-4268-e14c-54f0685b779f"
      },
      "execution_count": 63,
      "outputs": [
        {
          "output_type": "execute_result",
          "data": {
            "text/plain": [
              "<bound method IndexOpsMixin.value_counts of 0      Surabaya\n",
              "1      Surabaya\n",
              "2      Surabaya\n",
              "3       Jakarta\n",
              "4         Medan\n",
              "         ...   \n",
              "500    Surabaya\n",
              "501    Surabaya\n",
              "502       Medan\n",
              "503    Surabaya\n",
              "504     Jakarta\n",
              "Name: City, Length: 505, dtype: object>"
            ]
          },
          "metadata": {},
          "execution_count": 63
        }
      ]
    },
    {
      "cell_type": "code",
      "source": [
        "# inspeksi dataframe uncleaned_raw\n",
        "uncleaned_raw.columns.values"
      ],
      "metadata": {
        "id": "bqH1G9-qF9SZ"
      },
      "execution_count": null,
      "outputs": []
    },
    {
      "cell_type": "code",
      "source": [
        "# inspeksi semua len kolom pada dataset uncelaned_raw\n",
        "len_InvoiceNo = len(uncleaned_raw['InvoiceNo'])\n",
        "print(\"length kolom InvoiceNo adalah \", len_InvoiceNo)\n",
        "\n",
        "len_Description = len(uncleaned_raw['Description'])\n",
        "print(\"length kolom Description adalah \", len_Description)\n",
        "\n",
        "len_Quantity = len(uncleaned_raw['Quantity'])\n",
        "print(\"length kolom Quantity adalah \", len_Quantity)\n",
        "\n",
        "len_InvoiceDate = len(uncleaned_raw['InvoiceDate'])\n",
        "print(\"length kolom InvoiceDate adalah \", len_InvoiceDate)\n",
        "\n",
        "len_UnitPrice = len(uncleaned_raw['UnitPrice'])\n",
        "print(\"length kolom UnitPrice adalah \", len_UnitPrice)\n",
        "\n",
        "len_CustomerID = len(uncleaned_raw['CustomerID'])\n",
        "print(\"length kolom CustomerID adalah \", len_CustomerID)\n",
        "\n",
        "len_City = len(uncleaned_raw['City'])\n",
        "print(\"length kolom City adalah \", len_City)"
      ],
      "metadata": {
        "colab": {
          "base_uri": "https://localhost:8080/"
        },
        "id": "3-EwKwkOF9Ne",
        "outputId": "54517367-54a0-4ed7-a743-ba281aa8acaf"
      },
      "execution_count": 25,
      "outputs": [
        {
          "output_type": "stream",
          "name": "stdout",
          "text": [
            "length kolom InvoiceNo adalah  505\n",
            "length kolom Description adalah  505\n",
            "length kolom Quantity adalah  505\n",
            "length kolom InvoiceDate adalah  505\n",
            "length kolom UnitPrice adalah  505\n",
            "length kolom CustomerID adalah  505\n",
            "length kolom City adalah  505\n"
          ]
        }
      ]
    },
    {
      "cell_type": "code",
      "source": [
        "# inspeksi semua count kolom pada dataset uncleaned_raw\n",
        "count_InvoiceNo = uncleaned_raw['InvoiceNo'].count()\n",
        "print(\"count kolom InvoiceNo adalah \", count_InvoiceNo)\n",
        "\n",
        "count_Description = uncleaned_raw['Description'].count()\n",
        "print(\"count kolom Description adalah \", count_Description)\n",
        "\n",
        "count_Quantity = uncleaned_raw['Quantity'].count()\n",
        "print(\"count kolom Quantity adalah \", count_Quantity)\n",
        "\n",
        "count_InvoiceDate = uncleaned_raw['InvoiceDate'].count()\n",
        "print(\"count kolom InvoiceDate adalah \", count_InvoiceDate)\n",
        "\n",
        "count_UnitPrice = uncleaned_raw['UnitPrice'].count()\n",
        "print(\"count kolom UnitPrice adalah \", count_UnitPrice)\n",
        "\n",
        "count_CustomerID = uncleaned_raw['CustomerID'].count()\n",
        "print(\"count kolom CustomerID adalah \", count_CustomerID)\n",
        "\n",
        "count_City = uncleaned_raw['City'].count()\n",
        "print(\"count kolom City adalah \", count_City)\n"
      ],
      "metadata": {
        "colab": {
          "base_uri": "https://localhost:8080/"
        },
        "id": "lbt5Qs3nJ0el",
        "outputId": "29a2c25f-d4a0-4b7f-a1d6-0192e8a68fc6"
      },
      "execution_count": 24,
      "outputs": [
        {
          "output_type": "stream",
          "name": "stdout",
          "text": [
            "count kolom InvoiceNo adalah  505\n",
            "count kolom Description adalah  505\n",
            "count kolom Quantity adalah  485\n",
            "count kolom InvoiceDate adalah  505\n",
            "count kolom UnitPrice adalah  505\n",
            "count kolom CustomerID adalah  505\n",
            "count kolom City adalah  505\n"
          ]
        }
      ]
    },
    {
      "cell_type": "code",
      "source": [
        "# menghitung missing value tiap-tiap kolom dan presentasenya\n",
        "\n",
        "number_of_missing_values_InvoiceNo = len_InvoiceNo - count_InvoiceNo\n",
        "float_of_missing_values_InvoiceNo = float(number_of_missing_values_InvoiceNo/len_InvoiceNo)\n",
        "pct_of_missing_values_InvoiceNo = '{0:.1f}%'.format(float_of_missing_values_InvoiceNo*100)\n",
        "print('persentse missing values InvoiceNo adalah ', pct_of_missing_values_InvoiceNo)\n",
        "\n",
        "number_of_missing_values_Description = len_Description - count_Description\n",
        "float_of_missing_values_Description = float(number_of_missing_values_Description/len_Description)\n",
        "pct_of_missing_values_Description = '{0:.1f}%'.format(float_of_missing_values_Description*100)\n",
        "print('persentse missing values Description adalah ', pct_of_missing_values_Description)\n",
        "\n",
        "number_of_missing_values_Quantity = len_Quantity - count_Quantity\n",
        "float_of_missing_values_Quantity = float(number_of_missing_values_Quantity/len_Quantity)\n",
        "pct_of_missing_values_Quantity = '{0:.1f}%'.format(float_of_missing_values_Quantity*100)\n",
        "print('persentse missing values Quantity adalah ', pct_of_missing_values_Quantity)\n",
        "\n",
        "number_of_missing_values_InvoiceDate = len_InvoiceDate - count_InvoiceDate\n",
        "float_of_missing_values_InvoiceDate = float(number_of_missing_values_InvoiceDate/len_InvoiceDate)\n",
        "pct_of_missing_values_InvoiceDate = '{0:.1f}%'.format(float_of_missing_values_InvoiceDate*100)\n",
        "print('persentse missing values InvoiceDate adalah ', pct_of_missing_values_InvoiceDate)\n",
        "\n",
        "number_of_missing_values_UnitPrice = len_UnitPrice - count_UnitPrice\n",
        "float_of_missing_values_UnitPrice = float(number_of_missing_values_UnitPrice/len_UnitPrice)\n",
        "pct_of_missing_values_UnitPrice = '{0:.1f}%'.format(float_of_missing_values_UnitPrice*100)\n",
        "print('persentse missing values UnitPrice adalah ', pct_of_missing_values_UnitPrice)\n",
        "\n",
        "number_of_missing_values_CustomerID = len_CustomerID - count_CustomerID\n",
        "float_of_missing_values_CustomerID = float(number_of_missing_values_CustomerID/len_CustomerID)\n",
        "pct_of_missing_values_CustomerID = '{0:.1f}%'.format(float_of_missing_values_CustomerID*100)\n",
        "print('persentse missing values CustomerID adalah ', pct_of_missing_values_CustomerID)\n",
        "\n",
        "number_of_missing_values_City = len_City - count_City\n",
        "float_of_missing_values_City = float(number_of_missing_values_City/len_City)\n",
        "pct_of_missing_values_City = '{0:.1f}%'.format(float_of_missing_values_City*100)\n",
        "print('persentse missing values City adalah ', pct_of_missing_values_City)"
      ],
      "metadata": {
        "colab": {
          "base_uri": "https://localhost:8080/"
        },
        "id": "1gMbcYfLK7I7",
        "outputId": "77ffea1f-1156-4b52-df98-255b243fceac"
      },
      "execution_count": 34,
      "outputs": [
        {
          "output_type": "stream",
          "name": "stdout",
          "text": [
            "persentse missing values InvoiceNo adalah  0.0%\n",
            "persentse missing values Description adalah  0.0%\n",
            "persentse missing values Quantity adalah  4.0%\n",
            "persentse missing values InvoiceDate adalah  0.0%\n",
            "persentse missing values UnitPrice adalah  0.0%\n",
            "persentse missing values CustomerID adalah  0.0%\n",
            "persentse missing values City adalah  0.0%\n"
          ]
        }
      ]
    },
    {
      "cell_type": "code",
      "source": [
        "# mengisi missing value dengan mean pada kolom tersebut\n",
        "\n",
        "uncleaned_raw['Quantity'].fillna(uncleaned_raw.Quantity.mean())"
      ],
      "metadata": {
        "colab": {
          "base_uri": "https://localhost:8080/"
        },
        "id": "_EyIrbQRPd0A",
        "outputId": "1d1ae077-45ba-4862-8f4e-27d64ba9615d"
      },
      "execution_count": 37,
      "outputs": [
        {
          "output_type": "execute_result",
          "data": {
            "text/plain": [
              "0       6.0\n",
              "1       6.0\n",
              "2       8.0\n",
              "3       6.0\n",
              "4       6.0\n",
              "       ... \n",
              "500    24.0\n",
              "501    24.0\n",
              "502    24.0\n",
              "503    24.0\n",
              "504    10.0\n",
              "Name: Quantity, Length: 505, dtype: float64"
            ]
          },
          "metadata": {},
          "execution_count": 37
        }
      ]
    },
    {
      "cell_type": "code",
      "source": [
        "# mengetahui kolom yang memiliki outliers dan memvisualisasikannya edngan boxplot pada df uncleaned_raw\n",
        "# Q1, Q3, dan IQR pada kolom quantity\n",
        "\n",
        "Q1_quantity = uncleaned_raw['Quantity'].quantile(0.25)\n",
        "Q3_quantity = uncleaned_raw['Quantity'].quantile(0.75)\n",
        "IQR_quantity = Q3_quantity - Q1_quantity\n",
        "print(IQR_quantity)\n",
        "\n",
        "# Q1, Q3, dan IQR pada kolom UnitPrice\n",
        "Q1_UnitPrice = uncleaned_raw['UnitPrice'].quantile(0.25)\n",
        "Q3_UnitPrice = uncleaned_raw['UnitPrice'].quantile(0.75)\n",
        "IQR_UnitPrice = Q3_UnitPrice - Q1_UnitPrice\n",
        "print(IQR_UnitPrice)\n",
        "\n",
        "import seaborn as sns\n",
        "plt.figure(figsize=(15,10))\n",
        "plt.subplot(1,2,1)\n",
        "sns.boxplot(x='Quantity', y='CustomerID', data=uncleaned_raw)\n",
        "plt.subplot(1,2,2)\n",
        "sns.boxplot(x='UnitPrice', y='CustomerID', data=uncleaned_raw)\n"
      ],
      "metadata": {
        "colab": {
          "base_uri": "https://localhost:8080/",
          "height": 661
        },
        "id": "0d0eaYXhSdTr",
        "outputId": "b319e506-90d9-4e42-ace4-c29d592f3856"
      },
      "execution_count": 78,
      "outputs": [
        {
          "output_type": "stream",
          "name": "stdout",
          "text": [
            "9.0\n",
            "16000.0\n"
          ]
        },
        {
          "output_type": "execute_result",
          "data": {
            "text/plain": [
              "<matplotlib.axes._subplots.AxesSubplot at 0x7f798889e450>"
            ]
          },
          "metadata": {},
          "execution_count": 78
        },
        {
          "output_type": "display_data",
          "data": {
            "text/plain": [
              "<Figure size 1080x720 with 2 Axes>"
            ],
            "image/png": "[encoded data removed]"
          },
          "metadata": {
            "needs_background": "light"
          }
        }
      ]
    },
    {
      "cell_type": "code",
      "source": [
        "# melakukan proses removing outliers pada kolom UnitPrice\n",
        "\n",
        "# cek ukuran (baris dan kolom) sebelum data yang outliers dibuang\n",
        "print('shape awal: ', uncleaned_raw.shape)\n",
        "\n",
        "# removing outliers\n",
        "uncleaned_raw = uncleaned_raw[~((uncleaned_raw['UnitPrice']< (Q1_UnitPrice - 1.5 * IQR_UnitPrice))| (uncleaned_raw['UnitPrice'] > (Q3 + 1.5 * IQR_UnitPrice)))]\n",
        "\n",
        "# cek ukuran (baris dan kolom) sesudah data yang outlier dibuang\n",
        "print('shape akhir: ', uncleaned_raw.shape)"
      ],
      "metadata": {
        "colab": {
          "base_uri": "https://localhost:8080/"
        },
        "id": "0uJkJOBQljYO",
        "outputId": "df8f4460-5776-475e-a2da-a43de0634c66"
      },
      "execution_count": 82,
      "outputs": [
        {
          "output_type": "stream",
          "name": "stdout",
          "text": [
            "shape awal:  (161, 7)\n",
            "shape akhir:  (161, 7)\n"
          ]
        }
      ]
    },
    {
      "cell_type": "code",
      "source": [
        "# melakukan proses deduplikasi data\n",
        "\n",
        "# Untuk mengecek duplikasi:\n",
        "uncleaned_raw.duplicated(subset=None)\n",
        "\n",
        "#membuang duplikasi :\n",
        "uncleaned_raw.drop_duplicates()\n"
      ],
      "metadata": {
        "colab": {
          "base_uri": "https://localhost:8080/",
          "height": 423
        },
        "id": "O78HHpyGouJE",
        "outputId": "0e5ebaca-a71e-4474-d71b-7c01ae0c54b6"
      },
      "execution_count": 85,
      "outputs": [
        {
          "output_type": "execute_result",
          "data": {
            "text/plain": [
              "     InvoiceNo                          Description  Quantity     InvoiceDate  \\\n",
              "2       536367       CREAM CUPID HEARTS COAT HANGER       8.0  12/01/10 08.26   \n",
              "5       536370         SET 7 BABUSHKA NESTING BOXES       2.0  12/01/10 08.26   \n",
              "9       536374        ASSORTED COLOUR BIRD ORNAMENT      32.0  12/01/10 08.34   \n",
              "13      536378               IVORY KNITTED MUG COSY       6.0  12/01/10 08.34   \n",
              "17      536382             HOME BUILDING BLOCK WORD       3.0  12/01/10 08.34   \n",
              "..         ...                                  ...       ...             ...   \n",
              "470     536835   SET OF 72 RETROSPOT PAPER  DOILIES      12.0  12/01/10 11.41   \n",
              "480     536845          4 TRADITIONAL SPINNING TOPS      12.0  12/01/10 11.41   \n",
              "482     536847              BAG 500g SWIRLY MARBLES      12.0  12/01/10 11.41   \n",
              "492     536857           TOY TIDY DOLLY GIRL DESIGN       1.0  12/01/10 11.45   \n",
              "493     536858  SET 12 LAVENDER  BOTANICAL T-LIGHTS       1.0  12/01/10 11.45   \n",
              "\n",
              "     UnitPrice  CustomerID      City  \n",
              "2        18000       17850  Surabaya  \n",
              "5        24000       17850   Jakarta  \n",
              "9        17000       13047   Jakarta  \n",
              "13       16000       13047     Medan  \n",
              "17       17000       13047  Surabaya  \n",
              "..         ...         ...       ...  \n",
              "470      16000       14307     Medan  \n",
              "480      16000       14307  Surabaya  \n",
              "482      19000       14307  Surabaya  \n",
              "492      24000       17908   Jakarta  \n",
              "493      17000       17908     Medan  \n",
              "\n",
              "[161 rows x 7 columns]"
            ],
            "text/html": [
              "\n",
              "  <div id=\"df-c39c4611-c420-4b2b-8b49-20856d7915fd\">\n",
              "    <div class=\"colab-df-container\">\n",
              "      <div>\n",
              "<style scoped>\n",
              "    .dataframe tbody tr th:only-of-type {\n",
              "        vertical-align: middle;\n",
              "    }\n",
              "\n",
              "    .dataframe tbody tr th {\n",
              "        vertical-align: top;\n",
              "    }\n",
              "\n",
              "    .dataframe thead th {\n",
              "        text-align: right;\n",
              "    }\n",
              "</style>\n",
              "<table border=\"1\" class=\"dataframe\">\n",
              "  <thead>\n",
              "    <tr style=\"text-align: right;\">\n",
              "      <th></th>\n",
              "      <th>InvoiceNo</th>\n",
              "      <th>Description</th>\n",
              "      <th>Quantity</th>\n",
              "      <th>InvoiceDate</th>\n",
              "      <th>UnitPrice</th>\n",
              "      <th>CustomerID</th>\n",
              "      <th>City</th>\n",
              "    </tr>\n",
              "  </thead>\n",
              "  <tbody>\n",
              "    <tr>\n",
              "      <th>2</th>\n",
              "      <td>536367</td>\n",
              "      <td>CREAM CUPID HEARTS COAT HANGER</td>\n",
              "      <td>8.0</td>\n",
              "      <td>12/01/10 08.26</td>\n",
              "      <td>18000</td>\n",
              "      <td>17850</td>\n",
              "      <td>Surabaya</td>\n",
              "    </tr>\n",
              "    <tr>\n",
              "      <th>5</th>\n",
              "      <td>536370</td>\n",
              "      <td>SET 7 BABUSHKA NESTING BOXES</td>\n",
              "      <td>2.0</td>\n",
              "      <td>12/01/10 08.26</td>\n",
              "      <td>24000</td>\n",
              "      <td>17850</td>\n",
              "      <td>Jakarta</td>\n",
              "    </tr>\n",
              "    <tr>\n",
              "      <th>9</th>\n",
              "      <td>536374</td>\n",
              "      <td>ASSORTED COLOUR BIRD ORNAMENT</td>\n",
              "      <td>32.0</td>\n",
              "      <td>12/01/10 08.34</td>\n",
              "      <td>17000</td>\n",
              "      <td>13047</td>\n",
              "      <td>Jakarta</td>\n",
              "    </tr>\n",
              "    <tr>\n",
              "      <th>13</th>\n",
              "      <td>536378</td>\n",
              "      <td>IVORY KNITTED MUG COSY</td>\n",
              "      <td>6.0</td>\n",
              "      <td>12/01/10 08.34</td>\n",
              "      <td>16000</td>\n",
              "      <td>13047</td>\n",
              "      <td>Medan</td>\n",
              "    </tr>\n",
              "    <tr>\n",
              "      <th>17</th>\n",
              "      <td>536382</td>\n",
              "      <td>HOME BUILDING BLOCK WORD</td>\n",
              "      <td>3.0</td>\n",
              "      <td>12/01/10 08.34</td>\n",
              "      <td>17000</td>\n",
              "      <td>13047</td>\n",
              "      <td>Surabaya</td>\n",
              "    </tr>\n",
              "    <tr>\n",
              "      <th>...</th>\n",
              "      <td>...</td>\n",
              "      <td>...</td>\n",
              "      <td>...</td>\n",
              "      <td>...</td>\n",
              "      <td>...</td>\n",
              "      <td>...</td>\n",
              "      <td>...</td>\n",
              "    </tr>\n",
              "    <tr>\n",
              "      <th>470</th>\n",
              "      <td>536835</td>\n",
              "      <td>SET OF 72 RETROSPOT PAPER  DOILIES</td>\n",
              "      <td>12.0</td>\n",
              "      <td>12/01/10 11.41</td>\n",
              "      <td>16000</td>\n",
              "      <td>14307</td>\n",
              "      <td>Medan</td>\n",
              "    </tr>\n",
              "    <tr>\n",
              "      <th>480</th>\n",
              "      <td>536845</td>\n",
              "      <td>4 TRADITIONAL SPINNING TOPS</td>\n",
              "      <td>12.0</td>\n",
              "      <td>12/01/10 11.41</td>\n",
              "      <td>16000</td>\n",
              "      <td>14307</td>\n",
              "      <td>Surabaya</td>\n",
              "    </tr>\n",
              "    <tr>\n",
              "      <th>482</th>\n",
              "      <td>536847</td>\n",
              "      <td>BAG 500g SWIRLY MARBLES</td>\n",
              "      <td>12.0</td>\n",
              "      <td>12/01/10 11.41</td>\n",
              "      <td>19000</td>\n",
              "      <td>14307</td>\n",
              "      <td>Surabaya</td>\n",
              "    </tr>\n",
              "    <tr>\n",
              "      <th>492</th>\n",
              "      <td>536857</td>\n",
              "      <td>TOY TIDY DOLLY GIRL DESIGN</td>\n",
              "      <td>1.0</td>\n",
              "      <td>12/01/10 11.45</td>\n",
              "      <td>24000</td>\n",
              "      <td>17908</td>\n",
              "      <td>Jakarta</td>\n",
              "    </tr>\n",
              "    <tr>\n",
              "      <th>493</th>\n",
              "      <td>536858</td>\n",
              "      <td>SET 12 LAVENDER  BOTANICAL T-LIGHTS</td>\n",
              "      <td>1.0</td>\n",
              "      <td>12/01/10 11.45</td>\n",
              "      <td>17000</td>\n",
              "      <td>17908</td>\n",
              "      <td>Medan</td>\n",
              "    </tr>\n",
              "  </tbody>\n",
              "</table>\n",
              "<p>161 rows × 7 columns</p>\n",
              "</div>\n",
              "      <button class=\"colab-df-convert\" onclick=\"convertToInteractive('df-c39c4611-c420-4b2b-8b49-20856d7915fd')\"\n",
              "              title=\"Convert this dataframe to an interactive table.\"\n",
              "              style=\"display:none;\">\n",
              "        \n",
              "  <svg xmlns=\"http://www.w3.org/2000/svg\" height=\"24px\"viewBox=\"0 0 24 24\"\n",
              "       width=\"24px\">\n",
              "    <path d=\"M0 0h24v24H0V0z\" fill=\"none\"/>\n",
              "    <path d=\"M18.56 5.44l.94 2.06.94-2.06 2.06-.94-2.06-.94-.94-2.06-.94 2.06-2.06.94zm-11 1L8.5 8.5l.94-2.06 2.06-.94-2.06-.94L8.5 2.5l-.94 2.06-2.06.94zm10 10l.94 2.06.94-2.06 2.06-.94-2.06-.94-.94-2.06-.94 2.06-2.06.94z\"/><path d=\"M17.41 7.96l-1.37-1.37c-.4-.4-.92-.59-1.43-.59-.52 0-1.04.2-1.43.59L10.3 9.45l-7.72 7.72c-.78.78-.78 2.05 0 2.83L4 21.41c.39.39.9.59 1.41.59.51 0 1.02-.2 1.41-.59l7.78-7.78 2.81-2.81c.8-.78.8-2.07 0-2.86zM5.41 20L4 18.59l7.72-7.72 1.47 1.35L5.41 20z\"/>\n",
              "  </svg>\n",
              "      </button>\n",
              "      \n",
              "  <style>\n",
              "    .colab-df-container {\n",
              "      display:flex;\n",
              "      flex-wrap:wrap;\n",
              "      gap: 12px;\n",
              "    }\n",
              "\n",
              "    .colab-df-convert {\n",
              "      background-color: #E8F0FE;\n",
              "      border: none;\n",
              "      border-radius: 50%;\n",
              "      cursor: pointer;\n",
              "      display: none;\n",
              "      fill: #1967D2;\n",
              "      height: 32px;\n",
              "      padding: 0 0 0 0;\n",
              "      width: 32px;\n",
              "    }\n",
              "\n",
              "    .colab-df-convert:hover {\n",
              "      background-color: #E2EBFA;\n",
              "      box-shadow: 0px 1px 2px rgba(60, 64, 67, 0.3), 0px 1px 3px 1px rgba(60, 64, 67, 0.15);\n",
              "      fill: #174EA6;\n",
              "    }\n",
              "\n",
              "    [theme=dark] .colab-df-convert {\n",
              "      background-color: #3B4455;\n",
              "      fill: #D2E3FC;\n",
              "    }\n",
              "\n",
              "    [theme=dark] .colab-df-convert:hover {\n",
              "      background-color: #434B5C;\n",
              "      box-shadow: 0px 1px 3px 1px rgba(0, 0, 0, 0.15);\n",
              "      filter: drop-shadow(0px 1px 2px rgba(0, 0, 0, 0.3));\n",
              "      fill: #FFFFFF;\n",
              "    }\n",
              "  </style>\n",
              "\n",
              "      <script>\n",
              "        const buttonEl =\n",
              "          document.querySelector('#df-c39c4611-c420-4b2b-8b49-20856d7915fd button.colab-df-convert');\n",
              "        buttonEl.style.display =\n",
              "          google.colab.kernel.accessAllowed ? 'block' : 'none';\n",
              "\n",
              "        async function convertToInteractive(key) {\n",
              "          const element = document.querySelector('#df-c39c4611-c420-4b2b-8b49-20856d7915fd');\n",
              "          const dataTable =\n",
              "            await google.colab.kernel.invokeFunction('convertToInteractive',\n",
              "                                                     [key], {});\n",
              "          if (!dataTable) return;\n",
              "\n",
              "          const docLinkHtml = 'Like what you see? Visit the ' +\n",
              "            '<a target=\"_blank\" href=https://colab.research.google.com/notebooks/data_table.ipynb>data table notebook</a>'\n",
              "            + ' to learn more about interactive tables.';\n",
              "          element.innerHTML = '';\n",
              "          dataTable['output_type'] = 'display_data';\n",
              "          await google.colab.output.renderOutput(dataTable, element);\n",
              "          const docLink = document.createElement('div');\n",
              "          docLink.innerHTML = docLinkHtml;\n",
              "          element.appendChild(docLink);\n",
              "        }\n",
              "      </script>\n",
              "    </div>\n",
              "  </div>\n",
              "  "
            ]
          },
          "metadata": {},
          "execution_count": 85
        }
      ]
    }
  ]
}